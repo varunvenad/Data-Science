{
 "cells": [
  {
   "cell_type": "code",
   "execution_count": 1,
   "metadata": {},
   "outputs": [
    {
     "name": "stdout",
     "output_type": "stream",
     "text": [
      "160\n"
     ]
    }
   ],
   "source": [
    "a=100\n",
    "b=60\n",
    "c=a+b\n",
    "print(c)"
   ]
  },
  {
   "cell_type": "code",
   "execution_count": 2,
   "metadata": {},
   "outputs": [
    {
     "name": "stdout",
     "output_type": "stream",
     "text": [
      "Enter 1st number : 6\n",
      "Enter 2nd number : 5\n",
      "Sum of numbers: 11\n",
      "Subtraction of numbers: 1\n",
      "Multiplication of numbers: 30\n",
      "Divison of numbers: 1.2\n"
     ]
    }
   ],
   "source": [
    "#arithmetic operations\n",
    "x=int(input(\"Enter 1st number : \"))\n",
    "y=int(input(\"Enter 2nd number : \"))\n",
    "z=x+y\n",
    "p=x-y\n",
    "q=x*y\n",
    "r=x/y\n",
    "print(\"Sum of numbers:\",z)\n",
    "print(\"Subtraction of numbers:\",p)\n",
    "print(\"Multiplication of numbers:\",q)\n",
    "print(\"Divison of numbers:\",r)"
   ]
  },
  {
   "cell_type": "code",
   "execution_count": 3,
   "metadata": {},
   "outputs": [
    {
     "name": "stdout",
     "output_type": "stream",
     "text": [
      "Enter 1st number : 30\n",
      "Enter 2nd number : 50\n",
      "50 is greater\n"
     ]
    }
   ],
   "source": [
    "#largest of two numbers\n",
    "x=int(input(\"Enter 1st number : \"))\n",
    "y=int(input(\"Enter 2nd number : \"))\n",
    "if x>y:\n",
    "    print(x,\"is greater\")\n",
    "elif y>x:\n",
    "    print(y,\"is greater\")\n",
    "    \n",
    "else:\n",
    "    print(\"Both are equal\")"
   ]
  },
  {
   "cell_type": "code",
   "execution_count": 4,
   "metadata": {},
   "outputs": [
    {
     "name": "stdout",
     "output_type": "stream",
     "text": [
      "Enter 1st number : 30\n",
      "Enter 2nd number : 60\n",
      "Enter 3rd number : 40\n",
      "60 is greater\n"
     ]
    }
   ],
   "source": [
    "#largest of three\n",
    "x=int(input(\"Enter 1st number : \"))\n",
    "y=int(input(\"Enter 2nd number : \"))\n",
    "z=int(input(\"Enter 3rd number : \"))\n",
    "if x>y and x>z:\n",
    "    print(x,\"is greater\")\n",
    "elif y>x and y>z:\n",
    "    print(y,\"is greater\")\n",
    "elif z>x and z>y:\n",
    "    print(z,\"is greater\")\n",
    "else:\n",
    "    print(\"All are equal\")"
   ]
  },
  {
   "cell_type": "code",
   "execution_count": 5,
   "metadata": {},
   "outputs": [
    {
     "name": "stdout",
     "output_type": "stream",
     "text": [
      "Enter a number: 8\n",
      "0\n",
      "1\n",
      "2\n",
      "3\n",
      "4\n",
      "5\n",
      "6\n",
      "7\n"
     ]
    }
   ],
   "source": [
    "#for loop\n",
    "x=int(input(\"Enter a number: \"))\n",
    "for i in range(0,x):\n",
    "    print(i)"
   ]
  },
  {
   "cell_type": "code",
   "execution_count": 6,
   "metadata": {},
   "outputs": [
    {
     "name": "stdout",
     "output_type": "stream",
     "text": [
      "The list is : ['one', 'two', 3, 4, 5, 'six']\n",
      "list after append: ['one', 'two', 3, 4, 5, 'six', 'five']\n",
      "list after inserting element at 2nd position: ['one', 'two', 3, 3, 4, 5, 'six', 'five']\n",
      "first 4 elements of list using slice: ['one', 'two', 3, 3]\n",
      "removed element of third index postion: ['one', 'two', 3, 4, 5, 'six', 'five']\n"
     ]
    }
   ],
   "source": [
    "#list\n",
    "a=[\"one\",\"two\",3,4,5,\"six\"]\n",
    "print(\"The list is :\",a)\n",
    "a.append(\"five\")\n",
    "print(\"list after append:\",a)\n",
    "a.insert(2,3)\n",
    "print(\"list after inserting element at 2nd position:\",a)\n",
    "print(\"first 4 elements of list using slice:\",a[0:4])\n",
    "a.remove(3)\n",
    "print(\"removed element of third index postion:\",a)\n"
   ]
  },
  {
   "cell_type": "code",
   "execution_count": 7,
   "metadata": {},
   "outputs": [
    {
     "name": "stdout",
     "output_type": "stream",
     "text": [
      "Enter 1st number : 6\n",
      "Enter 2nd number : 3\n",
      "Division of numbers: 2.0\n"
     ]
    }
   ],
   "source": [
    "#sample function\n",
    "def opr(a,b):\n",
    "    x=a/b\n",
    "    return x\n",
    "p=int(input(\"Enter 1st number : \"))\n",
    "q=int(input(\"Enter 2nd number : \"))\n",
    "o=opr(p,q)\n",
    "print(\"Division of numbers:\",o)"
   ]
  },
  {
   "cell_type": "code",
   "execution_count": 8,
   "metadata": {},
   "outputs": [
    {
     "name": "stdout",
     "output_type": "stream",
     "text": [
      "A U B: {2, 4, 6, 8, 10, 12, 14, 16, 18, 20, 22, 24}\n",
      "A n B: {16}\n",
      "A - B: {2, 4, 6, 8, 10, 12, 14}\n"
     ]
    }
   ],
   "source": [
    "#set\n",
    "s={2,4,6,8,10,12,14,16}\n",
    "p={16,18,20,22,24}\n",
    "print(\"A U B:\",s.union(p))\n",
    "print(\"A n B:\",s.intersection(p))\n",
    "print(\"A - B:\",s-p)"
   ]
  },
  {
   "cell_type": "code",
   "execution_count": 10,
   "metadata": {},
   "outputs": [
    {
     "name": "stdout",
     "output_type": "stream",
     "text": [
      "Dictionary is :\n",
      "1 : a\n",
      "2 : b\n",
      "3 : c\n",
      "4 : d\n",
      "5 : e\n"
     ]
    },
    {
     "ename": "NameError",
     "evalue": "name 'keys' is not defined",
     "output_type": "error",
     "traceback": [
      "\u001b[0;31m---------------------------------------------------------------------------\u001b[0m",
      "\u001b[0;31mNameError\u001b[0m                                 Traceback (most recent call last)",
      "\u001b[0;32m<ipython-input-10-dd3b79e771eb>\u001b[0m in \u001b[0;36m<module>\u001b[0;34m()\u001b[0m\n\u001b[1;32m      4\u001b[0m \u001b[0;32mfor\u001b[0m \u001b[0mi\u001b[0m \u001b[0;32min\u001b[0m \u001b[0mv\u001b[0m\u001b[0;34m:\u001b[0m\u001b[0;34m\u001b[0m\u001b[0m\n\u001b[1;32m      5\u001b[0m     \u001b[0mprint\u001b[0m\u001b[0;34m(\u001b[0m\u001b[0mi\u001b[0m\u001b[0;34m,\u001b[0m\u001b[0;34m\":\"\u001b[0m\u001b[0;34m,\u001b[0m\u001b[0mv\u001b[0m\u001b[0;34m[\u001b[0m\u001b[0mi\u001b[0m\u001b[0;34m]\u001b[0m\u001b[0;34m)\u001b[0m\u001b[0;34m\u001b[0m\u001b[0m\n\u001b[0;32m----> 6\u001b[0;31m \u001b[0mprint\u001b[0m\u001b[0;34m(\u001b[0m\u001b[0;34m\"Dictionary keys are:\"\u001b[0m\u001b[0;34m,\u001b[0m\u001b[0mv\u001b[0m\u001b[0;34m[\u001b[0m\u001b[0mkeys\u001b[0m\u001b[0;34m]\u001b[0m\u001b[0;34m)\u001b[0m\u001b[0;34m\u001b[0m\u001b[0m\n\u001b[0m\u001b[1;32m      7\u001b[0m \u001b[0mprint\u001b[0m\u001b[0;34m(\u001b[0m\u001b[0;34m\"value of key 2:\"\u001b[0m\u001b[0;34m,\u001b[0m\u001b[0mv\u001b[0m\u001b[0;34m[\u001b[0m\u001b[0;34m'1'\u001b[0m\u001b[0;34m]\u001b[0m\u001b[0;34m)\u001b[0m\u001b[0;34m\u001b[0m\u001b[0m\n",
      "\u001b[0;31mNameError\u001b[0m: name 'keys' is not defined"
     ]
    }
   ],
   "source": [
    "#dictionary\n",
    "v={1:\"a\",2:\"b\",3:\"c\",4:\"d\",5:\"e\"}\n",
    "print(\"Dictionary is :\")\n",
    "for i in v:\n",
    "    print(i,\":\",v[i])\n"
   ]
  },
  {
   "cell_type": "code",
   "execution_count": null,
   "metadata": {
    "collapsed": true
   },
   "outputs": [],
   "source": [
    "#while loop\n"
   ]
  }
 ],
 "metadata": {
  "kernelspec": {
   "display_name": "Python 3",
   "language": "python",
   "name": "python3"
  },
  "language_info": {
   "codemirror_mode": {
    "name": "ipython",
    "version": 3
   },
   "file_extension": ".py",
   "mimetype": "text/x-python",
   "name": "python",
   "nbconvert_exporter": "python",
   "pygments_lexer": "ipython3",
   "version": "3.6.3"
  }
 },
 "nbformat": 4,
 "nbformat_minor": 2
}
