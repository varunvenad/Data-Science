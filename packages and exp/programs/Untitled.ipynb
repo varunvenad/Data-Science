{
 "cells": [
  {
   "cell_type": "code",
   "execution_count": 1,
   "metadata": {},
   "outputs": [
    {
     "ename": "SyntaxError",
     "evalue": "invalid syntax (<ipython-input-1-8dbe808f3bd8>, line 4)",
     "output_type": "error",
     "traceback": [
      "\u001b[0;36m  File \u001b[0;32m\"<ipython-input-1-8dbe808f3bd8>\"\u001b[0;36m, line \u001b[0;32m4\u001b[0m\n\u001b[0;31m    from sklearn.preprocessing\u001b[0m\n\u001b[0m                              ^\u001b[0m\n\u001b[0;31mSyntaxError\u001b[0m\u001b[0;31m:\u001b[0m invalid syntax\n"
     ]
    }
   ],
   "source": [
    "from matplotlib import pyplot as pt\n",
    "import numpy as np\n",
    "from sklearn.cluster import kMeans\n",
    "from sklearn.preprocessing\n",
    "d=pd.read_csv(\"d.csv\")\n",
    "x=d.iloc[:,:].values\n",
    "ss=StandardScaler()\n",
    "xp=ss.fit_transform(x)\n",
    "km=KMeans(init='k-means++',n_clusters=2,n_init=10)\n",
    "km.fit(xp)\n",
    "pr=km.predict(xp)\n",
    "print(pr)\n",
    "color=list(map(lambda x:\"#3b4cc0)\" if x==1 else \"b40420\",p))\n",
    "pt.scatter(xp[:,0],xp[:,1],c=color,marker=\"*\",picker=True)\n",
    "print(xp[:,0])\n",
    "pt.show()"
   ]
  },
  {
   "cell_type": "code",
   "execution_count": null,
   "metadata": {
    "collapsed": true
   },
   "outputs": [],
   "source": []
  }
 ],
 "metadata": {
  "kernelspec": {
   "display_name": "Python 3",
   "language": "python",
   "name": "python3"
  },
  "language_info": {
   "codemirror_mode": {
    "name": "ipython",
    "version": 3
   },
   "file_extension": ".py",
   "mimetype": "text/x-python",
   "name": "python",
   "nbconvert_exporter": "python",
   "pygments_lexer": "ipython3",
   "version": "3.6.3"
  }
 },
 "nbformat": 4,
 "nbformat_minor": 2
}
