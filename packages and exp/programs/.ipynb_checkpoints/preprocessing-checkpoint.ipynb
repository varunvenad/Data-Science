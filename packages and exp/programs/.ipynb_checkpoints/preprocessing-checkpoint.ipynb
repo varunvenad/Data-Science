{
 "cells": [
  {
   "cell_type": "code",
   "execution_count": 2,
   "metadata": {},
   "outputs": [
    {
     "name": "stdout",
     "output_type": "stream",
     "text": [
      "[ 409.1  479.   340.   282.4  406.   300.   374.   253.3  195.1  269.\n",
      "  329.3  250.7  250.7  345.3  379.3  275.   215.2  300.     nan  323.   243.\n",
      "  364.2  282.   300.   246.   334.5  250.   241.     nan  280.   380.3\n",
      "  243. ]\n",
      "[ 409.1  479.   340.   282.4  406.   300.   374.   253.3  195.1  269.\n",
      "  329.3  250.7  250.7  345.3  379.3  275.   215.2  300.     nan  323.   243.\n",
      "  364.2  282.   300.   246.   334.5  250.   241.     nan  280.   380.3\n",
      "  243. ]\n"
     ]
    }
   ],
   "source": [
    "import pandas as pd\n",
    "\n",
    "dataset=pd.read_csv('dirtydata.csv')\n",
    "X=dataset.iloc[:,4].values\n",
    "Y=dataset.iloc[:,-1].values\n",
    "print(X)\n",
    "print(Y)"
   ]
  },
  {
   "cell_type": "code",
   "execution_count": null,
   "metadata": {
    "collapsed": true
   },
   "outputs": [],
   "source": [
    "#LabelEncoder\n",
    "import pandas as pd\n",
    "from sklearn.preprocessing import LabelEncoder\n",
    "\n",
    "dataset=pd.read_csv('dirtydata.csv')\n",
    "\n",
    "le=LabelEncoder()"
   ]
  }
 ],
 "metadata": {
  "kernelspec": {
   "display_name": "Python 3",
   "language": "python",
   "name": "python3"
  },
  "language_info": {
   "codemirror_mode": {
    "name": "ipython",
    "version": 3
   },
   "file_extension": ".py",
   "mimetype": "text/x-python",
   "name": "python",
   "nbconvert_exporter": "python",
   "pygments_lexer": "ipython3",
   "version": "3.6.3"
  }
 },
 "nbformat": 4,
 "nbformat_minor": 2
}
