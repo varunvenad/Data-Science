{
 "cells": [
  {
   "cell_type": "code",
   "execution_count": null,
   "metadata": {},
   "outputs": [
    {
     "name": "stdout",
     "output_type": "stream",
     "text": [
      "CALCULATOR\n",
      "==========\n",
      "\n",
      "1.Additon\n",
      "2.Subtraction\n",
      "3.Multiplication\n",
      "4.Divition\n",
      "5.Exit\n",
      "Enter your choice:\n",
      "4\n",
      "Enter 1st number:4\n",
      "Enter 2nd number:7\n",
      "Division is: 0.5714285714285714\n"
     ]
    }
   ],
   "source": [
    "#simple calculator \n",
    "def add(x,y):\n",
    "    return x+y\n",
    "def sub(x,y):\n",
    "    return x-y\n",
    "def mul(x,y):\n",
    "    return x*y\n",
    "def div(x,y):\n",
    "    return x/y\n",
    "print(\"CALCULATOR\\n==========\\n\")\n",
    "print(\"1.Additon\\n2.Subtraction\\n3.Multiplication\\n4.Divition\\n5.Exit\")\n",
    "flag=True\n",
    "while(flag):\n",
    "    ch=int(input(\"Enter your choice:\\n\"))\n",
    "    n1=int(input(\"Enter 1st number:\"))\n",
    "    n2=int(input(\"Enter 2nd number:\"))\n",
    "    if ch==1:\n",
    "        print(\"Sum is:\",add(n1,n2))\n",
    "    elif ch==2:\n",
    "        print(\"Subtraction:\",sub(n1,n2))\n",
    "    elif ch==3:\n",
    "        print(\"Multiplication :\",mul(n1,n2))\n",
    "    elif ch==4:\n",
    "        print(\"Division is:\",div(n1,n2))\n",
    "    elif ch==5:\n",
    "        flag=False\n",
    "    else:\n",
    "        print(\"Invalid choice!\")\n",
    "          "
   ]
  },
  {
   "cell_type": "code",
   "execution_count": null,
   "metadata": {
    "collapsed": true
   },
   "outputs": [],
   "source": []
  },
  {
   "cell_type": "code",
   "execution_count": null,
   "metadata": {
    "collapsed": true
   },
   "outputs": [],
   "source": []
  }
 ],
 "metadata": {
  "kernelspec": {
   "display_name": "Python 3",
   "language": "python",
   "name": "python3"
  },
  "language_info": {
   "codemirror_mode": {
    "name": "ipython",
    "version": 3
   },
   "file_extension": ".py",
   "mimetype": "text/x-python",
   "name": "python",
   "nbconvert_exporter": "python",
   "pygments_lexer": "ipython3",
   "version": "3.6.3"
  }
 },
 "nbformat": 4,
 "nbformat_minor": 2
}
