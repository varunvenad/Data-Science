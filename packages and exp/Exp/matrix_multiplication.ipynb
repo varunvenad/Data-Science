{
 "cells": [
  {
   "cell_type": "code",
   "execution_count": 1,
   "metadata": {},
   "outputs": [
    {
     "name": "stdout",
     "output_type": "stream",
     "text": [
      "Matrix A:\n",
      " [[0 1]\n",
      " [2 3]]\n",
      "Matrix B:\n",
      " [[5 6]\n",
      " [7 8]]\n",
      "A x B:\n",
      " [[ 7  8]\n",
      " [31 36]]\n"
     ]
    }
   ],
   "source": [
    "#matrix multiplication\n",
    "import numpy as np\n",
    "\n",
    "arr=np.arange(4).reshape(2,2)\n",
    "print(\"Matrix A:\\n\",arr)\n",
    "arr2=np.arange(5,9).reshape(2,2)\n",
    "print(\"Matrix B:\\n\",arr2)\n",
    "m=np.dot(arr,arr2)\n",
    "print(\"A x B:\\n\",m)"
   ]
  },
  {
   "cell_type": "code",
   "execution_count": null,
   "metadata": {
    "collapsed": true
   },
   "outputs": [],
   "source": []
  }
 ],
 "metadata": {
  "kernelspec": {
   "display_name": "Python 3",
   "language": "python",
   "name": "python3"
  },
  "language_info": {
   "codemirror_mode": {
    "name": "ipython",
    "version": 3
   },
   "file_extension": ".py",
   "mimetype": "text/x-python",
   "name": "python",
   "nbconvert_exporter": "python",
   "pygments_lexer": "ipython3",
   "version": "3.6.3"
  }
 },
 "nbformat": 4,
 "nbformat_minor": 2
}
