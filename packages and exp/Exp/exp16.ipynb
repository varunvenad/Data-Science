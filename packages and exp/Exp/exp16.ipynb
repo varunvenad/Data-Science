{
  "nbformat": 4,
  "nbformat_minor": 0,
  "metadata": {
    "colab": {
      "name": "exp16.ipynb",
      "provenance": []
    },
    "kernelspec": {
      "name": "python3",
      "display_name": "Python 3"
    },
    "language_info": {
      "name": "python"
    }
  },
  "cells": [
    {
      "cell_type": "code",
      "execution_count": null,
      "metadata": {
        "colab": {
          "base_uri": "https://localhost:8080/"
        },
        "id": "gV50kmuwyOX5",
        "outputId": "cd3e995a-7219-456d-f692-fb6fd49c3218"
      },
      "outputs": [
        {
          "output_type": "stream",
          "name": "stdout",
          "text": [
            "[nltk_data] Downloading package stopwords to /root/nltk_data...\n",
            "[nltk_data]   Package stopwords is already up-to-date!\n",
            "[nltk_data] Downloading package punkt to /root/nltk_data...\n",
            "[nltk_data]   Package punkt is already up-to-date!\n",
            "[nltk_data] Downloading package averaged_perceptron_tagger to\n",
            "[nltk_data]     /root/nltk_data...\n",
            "[nltk_data]   Package averaged_perceptron_tagger is already up-to-\n",
            "[nltk_data]       date!\n",
            "[('Hello', 'NNP'), ('.', '.')]\n",
            "[('MCA', 'NNP'), ('S3', 'NNP'), ('fantastic', 'JJ'), ('.', '.')]\n",
            "[('We', 'PRP'), ('learn', 'VBP'), ('many', 'JJ'), ('new', 'JJ'), ('concepts', 'NNS'), ('implement', 'JJ'), ('practical', 'JJ'), ('exams', 'NN'), ('.', '.')]\n",
            "[('1st', 'CD'), ('data', 'NNS'), ('science', 'NN'), ('new', 'JJ'), ('paper', 'NN'), ('.', '.')]\n",
            "After Regex: chunk.RegexpParser with 1 stages:\n",
            "RegexpChunkParser with 1 rules:\n",
            "       <ChunkRule: '<NN.?>*<VBD.?>*<JJ.?>*<CC>?'>\n",
            "After Chunking (S\n",
            "  1st/CD\n",
            "  (mychunk data/NNS science/NN new/JJ)\n",
            "  (mychunk paper/NN)\n",
            "  ./.)\n"
          ]
        }
      ],
      "source": [
        "#part of speech tagging:\n",
        "import nltk\n",
        "from nltk.corpus import stopwords\n",
        "from nltk.tokenize import word_tokenize, sent_tokenize\n",
        "nltk.download('stopwords')\n",
        "nltk.download('punkt')\n",
        "nltk.download('averaged_perceptron_tagger')\n",
        "\n",
        "stop_words = set(stopwords.words('english'))\n",
        "  \n",
        "#Dummy text\n",
        "txt = \"Hello. MCA S3 is fantastic. We learn many new concepts and implement them in our practical exams. \"\\\n",
        "\"1st of all the data science is a new paper.\"\n",
        "  \n",
        "# sent_tokenize is one of instances of \n",
        "# PunktSentenceTokenizer from the nltk.tokenize.punkt module\n",
        "  \n",
        "tokenized = sent_tokenize(txt)\n",
        "for i in tokenized:\n",
        "      \n",
        "    # Word tokenizers is used to find the words \n",
        "    # and punctuation in a string\n",
        "    wordsList = nltk.word_tokenize(i)\n",
        "  \n",
        "    # removing stop words from wordList\n",
        "    wordsList = [w for w in wordsList if not w in stop_words] \n",
        "  \n",
        "    #  Using a Tagger. Which is part-of-speech \n",
        "    # tagger or POS-tagger. \n",
        "    tagged = nltk.pos_tag(wordsList)\n",
        "  \n",
        "    print(tagged)\n",
        "    #chunking:\n",
        "\n",
        "patterns= \"\"\"mychunk:{<NN.?>*<VBD.?>*<JJ.?>*<CC>?}\"\"\"\n",
        "chunker = nltk.RegexpParser(patterns)\n",
        "print(\"After Regex:\",chunker)\n",
        "output = chunker.parse(tagged)\n",
        "print(\"After Chunking\",output)"
      ]
    }
  ]
}