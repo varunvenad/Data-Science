{
 "cells": [
  {
   "cell_type": "code",
   "execution_count": 1,
   "metadata": {},
   "outputs": [
    {
     "name": "stdout",
     "output_type": "stream",
     "text": [
      "Mean Square Error(0.2<x<0.5)= 0.0216250878483\n",
      "r2_score(x>0.7)= 0.913499648607\n"
     ]
    }
   ],
   "source": [
    "#exp8\n",
    "\"\"\"program to implement linear and multiple regression techniques using any standard\n",
    "dataset available in the public domain and find the accuracy of the algorithm\"\"\"\n",
    "\n",
    "#multiple regression\n",
    "from sklearn import linear_model\n",
    "from sklearn.model_selection import train_test_split\n",
    "from sklearn.datasets import load_iris\n",
    "from sklearn.metrics import mean_squared_error,r2_score\n",
    "\n",
    "IrisData=load_iris()\n",
    "X=IrisData.data\n",
    "Y=IrisData.target\n",
    "X_train,X_test,Y_train,Y_test=train_test_split(X,Y,test_size=2,random_state=42)\n",
    "model=linear_model.LinearRegression()\n",
    "model.fit(X_train,Y_train)\n",
    "Y_pred=model.predict(X_test)\n",
    "Y_pred_train=model.predict(X_train)\n",
    "print(\"Mean Square Error(0.2<x<0.5)=\",mean_squared_error(Y_test,Y_pred))\n",
    "print(\"r2_score(x>0.7)=\",r2_score(Y_test,Y_pred))\n"
   ]
  },
  {
   "cell_type": "code",
   "execution_count": 7,
   "metadata": {},
   "outputs": [
    {
     "name": "stdout",
     "output_type": "stream",
     "text": [
      "(150, 1)\n",
      "Mean Square Error(0.2<x<0.5)= 0.0922834999476\n",
      "r2_score(x>0.7)= 0.630866000209\n"
     ]
    }
   ],
   "source": [
    "#linear regression\n",
    "from sklearn import linear_model\n",
    "from sklearn.model_selection import train_test_split\n",
    "from sklearn.datasets import load_iris\n",
    "from sklearn.metrics import mean_squared_error,r2_score\n",
    "import numpy as np\n",
    "\n",
    "\n",
    "IrisData=load_iris()\n",
    "\n",
    "X=IrisData.data\n",
    "Y=IrisData.target\n",
    "X=X[:,np.newaxis,2]\n",
    "print(X.shape)\n",
    "\n",
    "X_train,X_test,Y_train,Y_test=train_test_split(X,Y,test_size=2,random_state=42)\n",
    "\n",
    "model=linear_model.LinearRegression()\n",
    "model.fit(X_train,Y_train)\n",
    "\n",
    "Y_pred=model.predict(X_test)\n",
    "Y_pred_train=model.predict(X_train)\n",
    "\n",
    "print(\"Mean Square Error(0.2<x<0.5)=\",mean_squared_error(Y_test,Y_pred))\n",
    "print(\"r2_score(x>0.7)=\",r2_score(Y_test,Y_pred))\n"
   ]
  },
  {
   "cell_type": "code",
   "execution_count": null,
   "metadata": {
    "collapsed": true
   },
   "outputs": [],
   "source": []
  }
 ],
 "metadata": {
  "kernelspec": {
   "display_name": "Python 3",
   "language": "python",
   "name": "python3"
  },
  "language_info": {
   "codemirror_mode": {
    "name": "ipython",
    "version": 3
   },
   "file_extension": ".py",
   "mimetype": "text/x-python",
   "name": "python",
   "nbconvert_exporter": "python",
   "pygments_lexer": "ipython3",
   "version": "3.6.3"
  }
 },
 "nbformat": 4,
 "nbformat_minor": 2
}
