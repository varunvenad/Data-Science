{
 "cells": [
  {
   "cell_type": "code",
   "execution_count": 42,
   "metadata": {},
   "outputs": [
    {
     "name": "stdout",
     "output_type": "stream",
     "text": [
      "Array is                    : [ 2  4  5  6  8 10 12]\n",
      "Mean of array               : 6.71428571429\n",
      "Median of array             : 6.0\n",
      "Standard Deviation of array : 3.2387954425\n",
      "Variance of array           : 10.4897959184\n",
      "Sum of elements in array    : 47\n",
      "Sorted array                : [ 2  4  5  6  8 10 12]\n",
      "Sum of n1+n2                : 80\n"
     ]
    }
   ],
   "source": [
    "import numpy as np\n",
    "\n",
    "x=np.array([2,4,5,6,8,10,12])\n",
    "print(\"Array is                    :\",x)\n",
    "print(\"Mean of array               :\",np.mean(x))\n",
    "print(\"Median of array             :\",np.median(x))\n",
    "print(\"Standard Deviation of array :\",np.std(x))\n",
    "print(\"Variance of array           :\",np.var(x))\n",
    "print(\"Sum of elements in array    :\",np.sum(x))\n",
    "print(\"Sorted array                :\",np.sort(x))\n",
    "\n",
    "n1=30\n",
    "n2=50\n",
    "print(\"Sum of n1+n2                :\",np.add(n1,n2))\n",
    "\n"
   ]
  },
  {
   "cell_type": "code",
   "execution_count": 44,
   "metadata": {},
   "outputs": [
    {
     "name": "stdout",
     "output_type": "stream",
     "text": [
      "Sin 90 : 1.0\n",
      "Cos 0  : 1.0\n"
     ]
    }
   ],
   "source": [
    "#sin and cos\n",
    "print(\"Sin 90 :\",np.sin(np.pi/2))\n",
    "print(\"Cos 0  :\",np.cos(0))"
   ]
  },
  {
   "cell_type": "code",
   "execution_count": 46,
   "metadata": {},
   "outputs": [
    {
     "data": {
      "image/png": "[encoded data removed]",
      "text/plain": [
       "<matplotlib.figure.Figure at 0x7fa6b84486d8>"
      ]
     },
     "metadata": {},
     "output_type": "display_data"
    }
   ],
   "source": [
    "from matplotlib import pyplot as pt\n",
    "\n",
    "x=[0,100,0]\n",
    "y=[0,0,0]\n",
    "pt.plot(x)\n",
    "pt.xlabel(\"x axis\")\n",
    "pt.plot(y)\n",
    "pt.ylabel(\"y axis\")\n",
    "pt.title(\"Triangle\")\n",
    "pt.legend([\"x\",\"y\"])\n",
    "pt.show()"
   ]
  },
  {
   "cell_type": "code",
   "execution_count": 50,
   "metadata": {},
   "outputs": [
    {
     "data": {
      "image/png": "[encoded data removed]",
      "text/plain": [
       "<matplotlib.figure.Figure at 0x7fa6b82b4a20>"
      ]
     },
     "metadata": {},
     "output_type": "display_data"
    }
   ],
   "source": [
    "from matplotlib import pyplot as pt\n",
    "\n",
    "x=np.arange(10)\n",
    "y=np.arange(40,1,-4)\n",
    "pt.bar(x,y)\n",
    "pt.xlabel(\"x axis\")\n",
    "pt.ylabel(\"y axis\")\n",
    "pt.show()"
   ]
  },
  {
   "cell_type": "code",
   "execution_count": null,
   "metadata": {
    "collapsed": true
   },
   "outputs": [],
   "source": []
  },
  {
   "cell_type": "code",
   "execution_count": null,
   "metadata": {
    "collapsed": true
   },
   "outputs": [],
   "source": []
  }
 ],
 "metadata": {
  "kernelspec": {
   "display_name": "Python 3",
   "language": "python",
   "name": "python3"
  },
  "language_info": {
   "codemirror_mode": {
    "name": "ipython",
    "version": 3
   },
   "file_extension": ".py",
   "mimetype": "text/x-python",
   "name": "python",
   "nbconvert_exporter": "python",
   "pygments_lexer": "ipython3",
   "version": "3.6.3"
  }
 },
 "nbformat": 4,
 "nbformat_minor": 2
}
