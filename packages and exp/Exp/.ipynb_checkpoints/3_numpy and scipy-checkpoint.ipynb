{
 "cells": [
  {
   "cell_type": "code",
   "execution_count": 11,
   "metadata": {},
   "outputs": [
    {
     "name": "stdout",
     "output_type": "stream",
     "text": [
      "Array is: [2 4 6 8]\n"
     ]
    }
   ],
   "source": [
    "#creating array\n",
    "import numpy as np\n",
    "\n",
    "arr=np.array([2,4,6,8])\n",
    "print(\"Array is:\",arr)"
   ]
  },
  {
   "cell_type": "code",
   "execution_count": 10,
   "metadata": {},
   "outputs": [
    {
     "name": "stdout",
     "output_type": "stream",
     "text": [
      "2D Array is: [[2 4 6 8]\n",
      " [1 3 5 7]]\n"
     ]
    }
   ],
   "source": [
    "#creating 2d array\n",
    "import numpy as np\n",
    "\n",
    "arr=np.array([[2,4,6,8],[1,3,5,7]])\n",
    "print(\"2D Array is:\",arr)"
   ]
  },
  {
   "cell_type": "code",
   "execution_count": 13,
   "metadata": {},
   "outputs": [
    {
     "name": "stdout",
     "output_type": "stream",
     "text": [
      "Array range from 0 to 6: [0 1 2 3 4 5]\n"
     ]
    }
   ],
   "source": [
    "#arange function\n",
    "import numpy as np\n",
    "\n",
    "arr=np.arange(6)\n",
    "print(\"Array range from 0 to 6:\",arr)\n"
   ]
  },
  {
   "cell_type": "code",
   "execution_count": 15,
   "metadata": {},
   "outputs": [
    {
     "name": "stdout",
     "output_type": "stream",
     "text": [
      "Array range: [ 1.   1.5  2.   2.5  3.   3.5  4.   4.5  5.   5.5  6.   6.5  7.   7.5  8.\n",
      "  8.5  9.   9.5]\n",
      "5th element: 3.0\n",
      "(18,)\n"
     ]
    }
   ],
   "source": [
    "#arange function and shape function\n",
    "import numpy as np\n",
    "\n",
    "arr=np.arange(1,10,.5)\n",
    "print(\"Array range:\",arr)\n",
    "print(\"5th element:\",arr[4])\n",
    "print(arr.shape)"
   ]
  },
  {
   "cell_type": "code",
   "execution_count": 27,
   "metadata": {},
   "outputs": [
    {
     "name": "stdout",
     "output_type": "stream",
     "text": [
      "Matrix A:\n",
      " [[0 1]\n",
      " [2 3]]\n",
      "Matrix B:\n",
      " [[5 6]\n",
      " [7 8]]\n",
      "A x B:\n",
      " [[ 7  8]\n",
      " [31 36]]\n"
     ]
    }
   ],
   "source": [
    "#matrix multiplication\n",
    "import numpy as np\n",
    "\n",
    "arr=np.arange(4).reshape(2,2)\n",
    "print(\"Matrix A:\\n\",arr)\n",
    "arr2=np.arange(5,9).reshape(2,2)\n",
    "print(\"Matrix B:\\n\",arr2)\n",
    "m=np.dot(arr,arr2)\n",
    "print(\"A x B:\\n\",m)"
   ]
  },
  {
   "cell_type": "code",
   "execution_count": 18,
   "metadata": {},
   "outputs": [
    {
     "name": "stdout",
     "output_type": "stream",
     "text": [
      "2x2 array:\n",
      " [[0 1]\n",
      " [2 3]]\n",
      "Transpose: [[0 2]\n",
      " [1 3]]\n"
     ]
    }
   ],
   "source": [
    "#arange,reshape and transpose\n",
    "import numpy as np\n",
    "\n",
    "arr=np.arange(4).reshape(2,2)\n",
    "print(\"2x2 array:\\n\",arr)\n",
    "t=np.transpose(arr)\n",
    "print(\"Transpose:\",t)\n"
   ]
  },
  {
   "cell_type": "code",
   "execution_count": 20,
   "metadata": {},
   "outputs": [
    {
     "name": "stdout",
     "output_type": "stream",
     "text": [
      "[[ 0.  0.  0.]\n",
      " [ 0.  0.  0.]\n",
      " [ 0.  0.  0.]]\n"
     ]
    }
   ],
   "source": [
    "#Zeroes array\n",
    "import numpy as np\n",
    "\n",
    "arr=np.zeros([3,3])\n",
    "print(arr)"
   ]
  },
  {
   "cell_type": "code",
   "execution_count": 21,
   "metadata": {},
   "outputs": [
    {
     "name": "stdout",
     "output_type": "stream",
     "text": [
      "[[ 1.  1.]\n",
      " [ 1.  1.]]\n"
     ]
    }
   ],
   "source": [
    "#Ones array\n",
    "import numpy as np\n",
    "\n",
    "arr=np.ones([2,2])\n",
    "print(arr)"
   ]
  },
  {
   "cell_type": "code",
   "execution_count": 23,
   "metadata": {},
   "outputs": [
    {
     "name": "stdout",
     "output_type": "stream",
     "text": [
      "[[ 0.23284871  0.56763965  0.27343017]\n",
      " [ 0.07039789  0.30167603  0.87052144]\n",
      " [ 0.09905682  0.76414262  0.73144887]]\n"
     ]
    }
   ],
   "source": [
    "#using random\n",
    "import numpy as np\n",
    "\n",
    "arr=np.random.random([3,3])\n",
    "print(arr)"
   ]
  },
  {
   "cell_type": "code",
   "execution_count": 28,
   "metadata": {},
   "outputs": [
    {
     "name": "stdout",
     "output_type": "stream",
     "text": [
      "[ 1.          2.66666667  4.33333333  6.        ]\n"
     ]
    }
   ],
   "source": [
    "#lin space\n",
    "import numpy as np\n",
    "x=np.linspace(1,6,4)\n",
    "print(x)"
   ]
  },
  {
   "cell_type": "code",
   "execution_count": 32,
   "metadata": {},
   "outputs": [
    {
     "name": "stdout",
     "output_type": "stream",
     "text": [
      "[[0 1 2]\n",
      " [3 4 5]\n",
      " [6 7 8]]\n",
      "[[-0.13511895  0.90281571  0.40824829]\n",
      " [-0.49633514  0.29493179 -0.81649658]\n",
      " [-0.85755134 -0.31295213  0.40824829]] \n",
      "\n",
      "[  1.42267074e+01   1.26522599e+00   5.89938022e-16] \n",
      "\n",
      "[[-0.4663281  -0.57099079 -0.67565348]\n",
      " [-0.78477477 -0.08545673  0.61386131]\n",
      " [-0.40824829  0.81649658 -0.40824829]]\n"
     ]
    }
   ],
   "source": [
    "#svd\n",
    "from scipy.linalg import svd\n",
    "x=np.arange(9).reshape(3,3)\n",
    "print(x)\n",
    "p,q,r=svd(x)\n",
    "print(p,\"\\n\")\n",
    "print(q,\"\\n\")\n",
    "print(r)"
   ]
  },
  {
   "cell_type": "code",
   "execution_count": null,
   "metadata": {
    "collapsed": true
   },
   "outputs": [],
   "source": []
  }
 ],
 "metadata": {
  "kernelspec": {
   "display_name": "Python 3",
   "language": "python",
   "name": "python3"
  },
  "language_info": {
   "codemirror_mode": {
    "name": "ipython",
    "version": 3
   },
   "file_extension": ".py",
   "mimetype": "text/x-python",
   "name": "python",
   "nbconvert_exporter": "python",
   "pygments_lexer": "ipython3",
   "version": "3.6.3"
  }
 },
 "nbformat": 4,
 "nbformat_minor": 2
}
