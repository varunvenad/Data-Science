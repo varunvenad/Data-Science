{
 "cells": [
  {
   "cell_type": "code",
   "execution_count": 9,
   "metadata": {},
   "outputs": [
    {
     "name": "stdout",
     "output_type": "stream",
     "text": [
      "\n",
      "------------\n",
      "predicted \n",
      "[1 1 1 0 0 1 0 0 1 0]\n",
      "[  5.46210794   5.13376944   3.6775828   21.62434536  20.86540763\n",
      "   4.04221375  21.74481176  19.47182825   3.82757179  20.3190391 ]\n"
     ]
    },
    {
     "data": {
      "image/png": "[encoded data removed]",
      "text/plain": [
       "<matplotlib.figure.Figure at 0x7f4ebda98f28>"
      ]
     },
     "metadata": {},
     "output_type": "display_data"
    }
   ],
   "source": [
    "#Kmean\n",
    "from sklearn.preprocessing import StandardScaler\n",
    "from sklearn.cluster import KMeans\n",
    "from sklearn.datasets import make_blobs\n",
    "import pandas as pd\n",
    "from matplotlib import pyplot as plt\n",
    "import numpy as np\n",
    "%matplotlib inline\n",
    "X, target = make_blobs(n_samples=10, n_features=2,centers=[(20,20),(4,4)], random_state=1)\n",
    "kmeans=KMeans(init='k-means++',n_clusters=2, n_init=10)\n",
    "kmeans.fit(X)\n",
    "p=kmeans.predict(X)\n",
    "print(\"\\n------------\\npredicted \")\n",
    "print(p)\n",
    "colors=list(map(lambda x:\"#3b4cc0\" if x==1 else \"#b40426\",p))\n",
    "plt.scatter(X[:,0],X[:,1],c=colors,picker=True)\n",
    "print(X[:,0])\n",
    "plt.show()"
   ]
  },
  {
   "cell_type": "code",
   "execution_count": null,
   "metadata": {
    "collapsed": true
   },
   "outputs": [],
   "source": []
  },
  {
   "cell_type": "code",
   "execution_count": null,
   "metadata": {
    "collapsed": true
   },
   "outputs": [],
   "source": []
  }
 ],
 "metadata": {
  "kernelspec": {
   "display_name": "Python 3",
   "language": "python",
   "name": "python3"
  },
  "language_info": {
   "codemirror_mode": {
    "name": "ipython",
    "version": 3
   },
   "file_extension": ".py",
   "mimetype": "text/x-python",
   "name": "python",
   "nbconvert_exporter": "python",
   "pygments_lexer": "ipython3",
   "version": "3.6.3"
  }
 },
 "nbformat": 4,
 "nbformat_minor": 2
}
